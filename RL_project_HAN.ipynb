{
  "nbformat": 4,
  "nbformat_minor": 0,
  "metadata": {
    "colab": {
      "name": "Kerboua_Laribia_RL_project_HAN.ipynb",
      "provenance": [],
      "collapsed_sections": [
        "QDRHWqk4zd1m",
        "yj0PdVMnAd8N",
        "OKY0IEeare16",
        "h22LzE6VQvTn",
        "W3syMtjTOJ57",
        "8n1Dnx2chIrz",
        "hGW9IZjSLNjK",
        "fLOuXPgqNkDF",
        "BbkfEljyN6dj",
        "we7bTrWV95e6",
        "Je5-FPTw98tl",
        "MZZol5Cp-EZ1",
        "vDH-NfE22Jym",
        "1snz01ZKy66C",
        "2b9kQsXPzO8w"
      ]
    },
    "kernelspec": {
      "name": "python3",
      "display_name": "Python 3"
    },
    "accelerator": "GPU"
  },
  "cells": [
    {
      "cell_type": "markdown",
      "metadata": {
        "id": "2qdZublY7B9q"
      },
      "source": [
        "# Implémentation de Hierarchical Attention Networks for Document Classification\n",
        "\n",
        "---\n",
        "Travail réalisé par : *Imene KERBOUA* et *Mouad LARIBIA*  \n",
        "M2 Data Mining - Université Lumière Lyon 2\n",
        "\n",
        "---\n",
        "Nous présentons dans ce notebook une implémentation en Tensorflow 2 du modèle présenté dans le papier de [Yang et al (ACL 2016)](https://www.aclweb.org/anthology/N16-1174.pdf).   \n",
        "Les auteurs proposent un modèle de classification de document hiérarchique, cette hiérarchie vient du fait que l'ont traite un texte en le découpant en phrases, celles-ci sont ensuite découpées en mots. Nous traitons alors les phrases ensuite le texte au complet.\n",
        "\n"
      ]
    },
    {
      "cell_type": "markdown",
      "metadata": {
        "id": "QDRHWqk4zd1m"
      },
      "source": [
        "# Setup"
      ]
    },
    {
      "cell_type": "code",
      "metadata": {
        "colab": {
          "base_uri": "https://localhost:8080/"
        },
        "id": "cZnMvlluTkqk",
        "outputId": "b63b5cc0-d79f-4e92-9313-5e5e066dad95"
      },
      "source": [
        "from google.colab import drive\n",
        "drive.mount('/content/drive')"
      ],
      "execution_count": null,
      "outputs": [
        {
          "output_type": "stream",
          "text": [
            "Drive already mounted at /content/drive; to attempt to forcibly remount, call drive.mount(\"/content/drive\", force_remount=True).\n"
          ],
          "name": "stdout"
        }
      ]
    },
    {
      "cell_type": "code",
      "metadata": {
        "id": "o_bPy4TXraTv"
      },
      "source": [
        "import os\n",
        "os.chdir(\"/content/drive/MyDrive/data\")"
      ],
      "execution_count": null,
      "outputs": []
    },
    {
      "cell_type": "code",
      "metadata": {
        "id": "VNd-HXsGTm-5"
      },
      "source": [
        "import numpy as np\n",
        "import pandas as pd\n",
        "from nltk.tokenize import wordpunct_tokenize, sent_tokenize\n",
        "import nltk\n",
        "import matplotlib.pyplot as plt\n",
        "from IPython.display import clear_output\n",
        "import tensorflow.keras as k\n",
        "import tensorflow.keras.backend as K\n",
        "from tensorflow.keras.layers import Embedding, GRU, Dense, Bidirectional, Attention, Reshape,Input\n",
        "from tensorflow.keras.metrics import Sum\n",
        "from tensorflow.keras import initializers\n",
        "from tensorflow.keras.preprocessing.sequence import pad_sequences\n",
        "from IPython.display import clear_output\n",
        "import tensorflow as tf\n",
        "from sklearn.model_selection import train_test_split\n",
        "from sklearn.preprocessing import OneHotEncoder"
      ],
      "execution_count": null,
      "outputs": []
    },
    {
      "cell_type": "markdown",
      "metadata": {
        "id": "j18JN0vGTRFh"
      },
      "source": [
        "# Pré-traitement des données\n",
        "\n",
        "Dans cette section, nous chargeons les représentations vectorielles des mots (wiki.en.align.500k.vec). Pour que le modèle foncitonne il faut passer des textes de mêmes longueurs, c-à-d avec le même nombre de phrases. Les phrases doivent aussi avoir le même nombre de mots, nous appliquons alors un padding sur les phrases et les textes. "
      ]
    },
    {
      "cell_type": "markdown",
      "metadata": {
        "id": "yj0PdVMnAd8N"
      },
      "source": [
        "### Choix du datset\n",
        "\n",
        "d = 1 : charge les articles (articles.train.csv)  \n",
        "d = 2 : charge les reviews (reviews.train.csv)"
      ]
    },
    {
      "cell_type": "code",
      "metadata": {
        "id": "2bR3WmAlrcFj",
        "colab": {
          "base_uri": "https://localhost:8080/"
        },
        "outputId": "e6820260-fa7a-4e8c-a128-0f50906d3a66"
      },
      "source": [
        "# Choose a dataset\n",
        "d = 1 # d=1 to load articles dataset, d=2 to load reviews dataset\n",
        "\n",
        "if d == 1:\n",
        "    dataset = pd.read_csv(\"articles.train.csv\", sep=\",\")\n",
        "    print(dataset.info)\n",
        "else:\n",
        "    dataset = pd.read_csv(\"reviews.train.csv\", sep=\",\")\n",
        "    dataset = dataset.rename(columns={\"review\": \"text\", \"polarity\": \"objective\"})\n",
        "    print(dataset.info)"
      ],
      "execution_count": null,
      "outputs": [
        {
          "output_type": "stream",
          "text": [
            "<bound method DataFrame.info of       Unnamed: 0                                               text  objective\n",
            "0           6080  HERE’S WHAT A HEALTHY CHEF PUTS IN HIS 5-MINUT...          1\n",
            "1           7384  GLOBAL BUSINESS BAROMETER\\nTracking global sen...          0\n",
            "2           9053  Editors’ Picks: 11 Recipes We’re Making This S...          0\n",
            "3           1180  I Get Asked These 3 Questions About CBD All. T...          0\n",
            "4          11469  Mystery Ranch's Street Mask Is a Beacon of Com...          0\n",
            "...          ...                                                ...        ...\n",
            "9995        5336  8 Simple Rules To Ensure You’re Eating A Balan...          1\n",
            "9996       12860  Tech leaders emerge from under-resourced schoo...          0\n",
            "9997        6811  MILITARY MADE -  HOW A NAVY OFFICER TURNED A B...          0\n",
            "9998        2928  Fill your heart with Ireland Irish rover: thre...          0\n",
            "9999         408  Flame-controlled fusion: 400 years of Macao cu...          1\n",
            "\n",
            "[10000 rows x 3 columns]>\n"
          ],
          "name": "stdout"
        }
      ]
    },
    {
      "cell_type": "markdown",
      "metadata": {
        "id": "OKY0IEeare16"
      },
      "source": [
        "### Représentation vectorielle des mots"
      ]
    },
    {
      "cell_type": "code",
      "metadata": {
        "colab": {
          "base_uri": "https://localhost:8080/"
        },
        "id": "ICuGj38hx1bU",
        "outputId": "610b33c5-5892-47f6-a71f-b8749a88c3a1"
      },
      "source": [
        "! wget http://chirouble.univ-lyon2.fr/~aguille/wiki.en.align.500k.vec.zip\n",
        "! unzip wiki.en.align.500k.vec.zip"
      ],
      "execution_count": null,
      "outputs": [
        {
          "output_type": "stream",
          "text": [
            "--2021-01-09 19:59:49--  http://chirouble.univ-lyon2.fr/~aguille/wiki.en.align.500k.vec.zip\n",
            "Resolving chirouble.univ-lyon2.fr (chirouble.univ-lyon2.fr)... 159.84.143.120\n",
            "Connecting to chirouble.univ-lyon2.fr (chirouble.univ-lyon2.fr)|159.84.143.120|:80... ^C\n",
            "Archive:  wiki.en.align.500k.vec.zip\n",
            "replace wiki.en.align.500k.vec? [y]es, [n]o, [A]ll, [N]one, [r]ename: n\n"
          ],
          "name": "stdout"
        }
      ]
    },
    {
      "cell_type": "code",
      "metadata": {
        "id": "KmnP0ayfPXzO"
      },
      "source": [
        "data = pd.read_csv(\"wiki.en.align.500k.vec\", sep=\" \", quoting=3, header=None, skiprows=1)\n",
        "\n",
        "pad_id = 0\n",
        "oov_id = 1\n",
        "vocabulary = [\"<PAD>\", \"<OOV>\"]\n",
        "vectors = [np.zeros(300), np.zeros(300)]\n",
        "dictionnary = {\"<PAD>\": 0, \"<OOV>\": 1}\n",
        "i = len(vocabulary)\n",
        "all_vec = np.array(data[range(1, 301)].values, dtype=np.float32)\n",
        "\n",
        "for j, word in enumerate(data[0].values):\n",
        "    vocabulary.append(word)\n",
        "    vectors.append(all_vec[j])\n",
        "    dictionnary[word] = i\n",
        "    i += 1\n",
        "\n",
        "del(data)\n",
        "del(all_vec)\n",
        "\n",
        "def get_vector(word):\n",
        "  if word in vocabulary:\n",
        "    return vectors[vocabulary.index(word)]\n",
        "  else:\n",
        "    return vectors[-1]"
      ],
      "execution_count": null,
      "outputs": []
    },
    {
      "cell_type": "markdown",
      "metadata": {
        "id": "h22LzE6VQvTn"
      },
      "source": [
        "### Tokenisation"
      ]
    },
    {
      "cell_type": "code",
      "metadata": {
        "id": "CAo4yti1LOhV",
        "colab": {
          "base_uri": "https://localhost:8080/"
        },
        "outputId": "f800e9af-0ad3-4f2e-8d7b-e8c17750e9fa"
      },
      "source": [
        "nltk.download('punkt')\n",
        "tokenized_texts = [[[dictionnary.get(token, oov_id) for token in wordpunct_tokenize(sentence)] for sentence in sent_tokenize(text)] for text in dataset.text]"
      ],
      "execution_count": null,
      "outputs": [
        {
          "output_type": "stream",
          "text": [
            "[nltk_data] Downloading package punkt to /root/nltk_data...\n",
            "[nltk_data]   Package punkt is already up-to-date!\n"
          ],
          "name": "stdout"
        }
      ]
    },
    {
      "cell_type": "code",
      "metadata": {
        "colab": {
          "base_uri": "https://localhost:8080/"
        },
        "id": "XoL59LtvZtoO",
        "outputId": "017f70c1-38eb-4dc2-9258-fcaa6ce4fc26"
      },
      "source": [
        "length = [len(text) for text in tokenized_texts]\n",
        "print(\"Nombre de phrases par texte en moyenne : %.1f\" % (np.mean(length)))\n",
        "plt.hist(length, bins=20)\n",
        "plt.show()"
      ],
      "execution_count": null,
      "outputs": [
        {
          "output_type": "stream",
          "text": [
            "Nombre de phrases par texte en moyenne : 30.7\n"
          ],
          "name": "stdout"
        },
        {
          "output_type": "display_data",
          "data": {
            "image/png": "[encoded data removed]",
            "text/plain": [
              "<Figure size 432x288 with 1 Axes>"
            ]
          },
          "metadata": {
            "tags": [],
            "needs_background": "light"
          }
        }
      ]
    },
    {
      "cell_type": "code",
      "metadata": {
        "colab": {
          "base_uri": "https://localhost:8080/"
        },
        "id": "-ezd99jtOxkI",
        "outputId": "569119e4-8a12-4f9a-930e-dcdafd698f5c"
      },
      "source": [
        "length = [len(sentence) for text in tokenized_texts for sentence in text]\n",
        "print(\"Nombre de mots par phrase en moyenne : \", np.mean(length))\n",
        "plt.hist(length, bins=20)\n",
        "plt.show()"
      ],
      "execution_count": null,
      "outputs": [
        {
          "output_type": "stream",
          "text": [
            "Nombre de mots par phrase en moyenne :  32.60896117086382\n"
          ],
          "name": "stdout"
        },
        {
          "output_type": "display_data",
          "data": {
            "image/png": "[encoded data removed]",
            "text/plain": [
              "<Figure size 432x288 with 1 Axes>"
            ]
          },
          "metadata": {
            "tags": [],
            "needs_background": "light"
          }
        }
      ]
    },
    {
      "cell_type": "markdown",
      "metadata": {
        "id": "W3syMtjTOJ57"
      },
      "source": [
        "### Padding des mots\n",
        "Même nombre de mots par phrase"
      ]
    },
    {
      "cell_type": "code",
      "metadata": {
        "id": "XKuBBnctmXXK"
      },
      "source": [
        "n_classes = len(np.unique(dataset.objective)) # nb classes\n",
        "n_sentences = 15\n",
        "n_words = 30"
      ],
      "execution_count": null,
      "outputs": []
    },
    {
      "cell_type": "code",
      "metadata": {
        "id": "JhBag8aROHa9"
      },
      "source": [
        "# meme nombre de mots par phrase : nombre de mots par phrase = 50\n",
        "X = [pad_sequences(tokenized_sentence,\n",
        "                  maxlen=n_words,\n",
        "                  truncating=\"pre\",\n",
        "                  padding=\"pre\", # on ajoute les tokens de padding au début du texte ne pas brouiller le dernier état caché du RNN\n",
        "                  value=pad_id) for tokenized_sentence in tokenized_texts]"
      ],
      "execution_count": null,
      "outputs": []
    },
    {
      "cell_type": "markdown",
      "metadata": {
        "id": "8n1Dnx2chIrz"
      },
      "source": [
        "### Padding des phrases \n",
        "Même nombre de phrases par document"
      ]
    },
    {
      "cell_type": "code",
      "metadata": {
        "id": "UEy1wxF0TriU"
      },
      "source": [
        "# il faut avoir le même nombre de phrases par document (texte)\n",
        "# ajouter un vecteur de zeros au début de chaque document\n",
        "def pad_documents(documents, max_vects=n_sentences, vect_length=n_words):\n",
        "    for i in range(len(documents)):\n",
        "        nb_vects = len(documents[i])\n",
        "        n_missing = nb_vects - max_vects\n",
        "        if n_missing < 0:\n",
        "            documents[i] = np.append((- n_missing) * [np.zeros(vect_length, dtype='int32')], documents[i], axis=0)\n",
        "        elif n_missing > 0:\n",
        "            documents[i] = documents[i][-max_vects:]\n",
        "    return documents"
      ],
      "execution_count": null,
      "outputs": []
    },
    {
      "cell_type": "code",
      "metadata": {
        "id": "Nw5jZe8rbI_D",
        "colab": {
          "base_uri": "https://localhost:8080/"
        },
        "outputId": "5a57c5d1-e7a9-4ae1-e17a-0e503028712b"
      },
      "source": [
        "pad_texts = pad_documents(X, max_vects=n_sentences, vect_length=n_words)\n",
        "pad_texts = np.asanyarray(pad_texts)\n",
        "pad_texts.shape"
      ],
      "execution_count": null,
      "outputs": [
        {
          "output_type": "execute_result",
          "data": {
            "text/plain": [
              "(10000, 15, 30)"
            ]
          },
          "metadata": {
            "tags": []
          },
          "execution_count": 80
        }
      ]
    },
    {
      "cell_type": "markdown",
      "metadata": {
        "id": "hGW9IZjSLNjK"
      },
      "source": [
        "### Encodage des variables à prédire"
      ]
    },
    {
      "cell_type": "code",
      "metadata": {
        "id": "ZQsRKvsyOodk",
        "colab": {
          "base_uri": "https://localhost:8080/"
        },
        "outputId": "c8aa433b-97f6-4f29-cdf3-ae74c67d75e9"
      },
      "source": [
        "# Recoder les variables cibles en vecteurs de 0 et 1\n",
        "encoder = OneHotEncoder()\n",
        "y = encoder.fit_transform(np.array(dataset.objective).reshape(-1, 1)).toarray()\n",
        "y.shape"
      ],
      "execution_count": null,
      "outputs": [
        {
          "output_type": "execute_result",
          "data": {
            "text/plain": [
              "(10000, 4)"
            ]
          },
          "metadata": {
            "tags": []
          },
          "execution_count": 81
        }
      ]
    },
    {
      "cell_type": "markdown",
      "metadata": {
        "id": "PUIab0mzPgCW"
      },
      "source": [
        "# Classification des documents en utilisant HAN \n"
      ]
    },
    {
      "cell_type": "markdown",
      "metadata": {
        "id": "fLOuXPgqNkDF"
      },
      "source": [
        "## Couches du modèle \n",
        "\n",
        "\n",
        "*   ***WSAttention :*** couche d'attention des mots et des phrases\n",
        "*   ***WordEncoder :*** couche d'encodage des mots de chaque phrase d'un texte\n",
        "*   ***SentenceEncoder :*** couche d'encodage des phrases d'un texte\n",
        "\n"
      ]
    },
    {
      "cell_type": "code",
      "metadata": {
        "id": "4IVq5v8tdQAF"
      },
      "source": [
        "#### Word-Sentence Attention Layer\n",
        "class WSAttention(k.layers.Layer):\n",
        "    def __init__(self, context_vector_len):\n",
        "        super(WSAttention, self).__init__()\n",
        "        self.init = initializers.get('normal')\n",
        "        self.context_vector_len = context_vector_len\n",
        "    \n",
        "    def build(self, input_shape):\n",
        "        super(WSAttention, self).build(input_shape)        \n",
        "        # Add a weights for the attention layer\n",
        "        self.W = K.variable(self.init((input_shape[-1], self.context_vector_len)), name='W')\n",
        "        self.b = K.variable(self.init((self.context_vector_len,)), name='bias')\n",
        "        self.u = K.variable(self.init((self.context_vector_len, 1)), name='context_vector')\n",
        "\n",
        "    def call(self, inputs, n_sentences):\n",
        "        u_i = k.activations.tanh(K.dot(inputs, self.W) + self.b) # can be replaced by a Dense Layer\n",
        "        uiu = K.dot(u_i, self.u)\n",
        "        if len(inputs.shape) == 3 :# Words Attention\n",
        "            uiu = K.squeeze(uiu, axis = -1)\n",
        "            alpha_i = k.activations.softmax(uiu)\n",
        "            # Multiply each input by its attention weights\n",
        "            alpha_i = K.expand_dims(alpha_i)\n",
        "            weighted_input = []\n",
        "            output =[]\n",
        "            for i in range(n_sentences): \n",
        "                weighted_input += [inputs[:,i,:] * alpha_i[:,i,:]]\n",
        "                output += [K.sum(weighted_input, axis=0)]\n",
        "            return tf.transpose(tf.convert_to_tensor(output),perm = [1,0,2])\n",
        "        else: # Sentences Attention\n",
        "            alpha_i = k.activations.softmax(uiu)\n",
        "            # Multiply each input by its attention weights\n",
        "            alpha_i = K.expand_dims(alpha_i)\n",
        "            weighted_input = inputs* alpha_i\n",
        "            output = K.sum(weighted_input, axis=1)\n",
        "            return tf.convert_to_tensor(output)\n",
        "\n",
        "\n",
        "#### Word Encoder\n",
        "class WordEncoder(k.layers.Layer):\n",
        "    def __init__(self, n_words, n_sentences, embedding_size, gru_dimension, vocabulary_size, vectors=None):\n",
        "        super(WordEncoder, self).__init__()\n",
        "        self.n_words = n_words\n",
        "        self.n_sentences = n_sentences\n",
        "        self.embedding_size = embedding_size\n",
        "        self.gru_dimension = gru_dimension\n",
        "        if vectors is not None: \n",
        "            self.embedding = Embedding(input_dim=vocabulary_size, \n",
        "                                          output_dim=embedding_size, \n",
        "                                          weights=[vectors],\n",
        "                                          trainable=False)\n",
        "        else: \n",
        "            self.embedding = Embedding(input_dim=vocabulary_size, \n",
        "                                          output_dim=embedding_size, \n",
        "                                          trainable=True)\n",
        "        self.bi_gru = Bidirectional(GRU(gru_dimension, \n",
        "                                        bias_initializer=\"zeros\",\n",
        "                                        dropout=0.5,\n",
        "                                        recurrent_initializer='glorot_uniform'))\n",
        "        \n",
        "\n",
        "    def call(self, inputs, batch_size=1):\n",
        "        x = self.embedding(inputs)\n",
        "        # la boucle ci-dessous aurait pu être remplacée par k.TimeDistributed layer - nous avons appris l'existence de ce layer hier seulement, faute de temps nous ne pourrons pas l'implémenter\n",
        "        h_bi_text = []\n",
        "        for i in range(self.n_sentences): # Each sentence of a given text must be passed through the Word Encoder layer\n",
        "            reshaped_x = tf.squeeze(tf.slice(tf.convert_to_tensor(x), [0, i, 0, 0], [batch_size, 1, self.n_words, self.embedding_size]), axis=1)\n",
        "            h_bi_text += [self.bi_gru(reshaped_x)]\n",
        "        return tf.transpose(tf.convert_to_tensor(h_bi_text), perm=[1, 0, 2])\n",
        "\n",
        "#### Sentence Encoder\n",
        "class SentenceEncoder(k.layers.Layer):\n",
        "    def __init__(self, gru_dimension):\n",
        "        super(SentenceEncoder, self).__init__()\n",
        "        self.bi_gru = Bidirectional(GRU(gru_dimension, \n",
        "                                        bias_initializer=\"zeros\",\n",
        "                                        dropout=0.5,\n",
        "                                        recurrent_initializer='glorot_uniform'))\n",
        "    def call(self, s_i):\n",
        "        return self.bi_gru(s_i)"
      ],
      "execution_count": null,
      "outputs": []
    },
    {
      "cell_type": "markdown",
      "metadata": {
        "id": "BbkfEljyN6dj"
      },
      "source": [
        "## Modèle HAN \n",
        "\n",
        "*   ***Entrées :*** un batch de textes, chaque texte est de dimension (nombre de phrases par texte, nombre de mots par phrase), donc la dimension des entrées du modèle est de (batch_size, nombre de phrases par texte, nombre de mots par phrase).\n",
        "*   ***Couche d'encodage des mots (Word Encoder) :*** pour chaque phrase de chaque texte, on encode les mots les contenant.\n",
        "*   ***Couche d'attention des mots de chaque phrase (Word Attention) :*** les mots encodés dans la précédente couche sont passés par une couche d'attention qui s'occupe de déterminer quels sont les mots les plus pertinents dans chaque phrases.\n",
        "*   ***Couche d'encodage des phrases (Sentence Encoder) :*** chaque phrase de texte est encodée. A noter que les phrases à cette étape sont représentées par l'attention des mots les composant.\n",
        "*   ***Couche d'attention des phrases (Sentence Attention) :*** les phrases précédement encodées sont passées par une couche d'attention pour déterminer la pertinence de celles-ci dans le texte. A noter que l'on parle de pertinence par rapport aux classes de prédiction, c-à-d quelles phrases détermineront si le texte appartient à la classe $c_i$.\n",
        "*   ***Sortie :*** probabilité d'appartenance d'un texte donné à une classe $c_i$.\n",
        "\n"
      ]
    },
    {
      "cell_type": "code",
      "metadata": {
        "id": "hhUExuWLnTNN"
      },
      "source": [
        "class HAN(k.Model):\n",
        "    def __init__(self, n_classes, embedding_size, n_sentences, n_words, gru_dimension, vocabulary_size, vectors=None):\n",
        "        super(HAN, self).__init__()\n",
        "        self.word_encoder = WordEncoder(n_words, n_sentences, embedding_size, gru_dimension, vocabulary_size, vectors)\n",
        "        self.word_attention = WSAttention(context_vector_len=2*gru_dimension)\n",
        "        self.sentence_encoder = SentenceEncoder(gru_dimension)\n",
        "        self.sentence_attention = WSAttention(context_vector_len=2*gru_dimension)\n",
        "        self.logits = Dense(units=n_classes, activation='softmax', name='Classification_Layer')\n",
        "    \n",
        "    def call(self, sentences): # sentences shape : (batch, n_sentences, n_words)\n",
        "        h_we = self.word_encoder(sentences, sentences.shape[0]) # h_we shape : (batch, n_sentences, n_words, gru_dimension)\n",
        "        s_i = self.word_attention(h_we, n_sentences) # s_i shape : (batch, n_sentences, n_words)\n",
        "        h_se = self.sentence_encoder(s_i) # h_se shape : (batch, n_sentences, 2*gru_dimension)\n",
        "        v = self.sentence_attention(h_se, n_sentences) # v shape : (batch, n_sentences)\n",
        "        return self.logits(v)\n"
      ],
      "execution_count": null,
      "outputs": []
    },
    {
      "cell_type": "markdown",
      "metadata": {
        "id": "6FcF17PmdNqv"
      },
      "source": [
        "## Entraînement"
      ]
    },
    {
      "cell_type": "markdown",
      "metadata": {
        "id": "we7bTrWV95e6"
      },
      "source": [
        "### Préparation des données "
      ]
    },
    {
      "cell_type": "code",
      "metadata": {
        "colab": {
          "base_uri": "https://localhost:8080/"
        },
        "id": "lXYgt5966Muz",
        "outputId": "216a39eb-19da-48d3-84e1-c876e19509c4"
      },
      "source": [
        "# Dataset split into train - test sets\n",
        "train_x, test_x, train_y, test_y = train_test_split(pad_texts, y, test_size=0.2) # 80/20\n",
        "print(train_x.shape)\n",
        "print(test_x.shape)\n",
        "print(train_y.shape)\n",
        "print(test_y.shape)"
      ],
      "execution_count": null,
      "outputs": [
        {
          "output_type": "stream",
          "text": [
            "(8000, 15, 30)\n",
            "(2000, 15, 30)\n",
            "(8000, 4)\n",
            "(2000, 4)\n"
          ],
          "name": "stdout"
        }
      ]
    },
    {
      "cell_type": "code",
      "metadata": {
        "colab": {
          "base_uri": "https://localhost:8080/"
        },
        "id": "l3ZF9ykBbfNY",
        "outputId": "e161362b-3f97-4a9b-9030-e2f4fb3d7adc"
      },
      "source": [
        "# Train set split into train - validation sets\n",
        "train_x, val_x, train_y, val_y = train_test_split(train_x, train_y, test_size=0.1) # 90/10\n",
        "print(train_x.shape)\n",
        "print(val_x.shape)\n",
        "print(train_y.shape)\n",
        "print(val_y.shape)"
      ],
      "execution_count": null,
      "outputs": [
        {
          "output_type": "stream",
          "text": [
            "(7200, 15, 30)\n",
            "(800, 15, 30)\n",
            "(7200, 4)\n",
            "(800, 4)\n"
          ],
          "name": "stdout"
        }
      ]
    },
    {
      "cell_type": "code",
      "metadata": {
        "id": "Y9ssrJdKJBGZ"
      },
      "source": [
        "# Convert dataset to Tensors\n",
        "train_dataset = tf.data.Dataset.from_tensor_slices(tf.convert_to_tensor(train_x)) # train text tensor shape :  7200 * 15 * 200\n",
        "train_target = tf.data.Dataset.from_tensor_slices(tf.convert_to_tensor(train_y)) # train target tensor shape :  7200 * 4\n",
        "val_dataset = tf.data.Dataset.from_tensor_slices(tf.convert_to_tensor(val_x)) # train text tensor shape :  800 * 15 * 200\n",
        "val_target = tf.data.Dataset.from_tensor_slices(tf.convert_to_tensor(val_y)) # train target tensor shape :  800 * 4\n",
        "\n",
        "batch_size = 64\n",
        "train_dataset = train_dataset.shuffle(buffer_size=1024).batch(batch_size)\n",
        "train_target = train_target.shuffle(buffer_size=1024).batch(batch_size)\n",
        "val_dataset = val_dataset.shuffle(buffer_size=1024).batch(batch_size)\n",
        "val_target = val_target.shuffle(buffer_size=1024).batch(batch_size)"
      ],
      "execution_count": null,
      "outputs": []
    },
    {
      "cell_type": "markdown",
      "metadata": {
        "id": "Je5-FPTw98tl"
      },
      "source": [
        "### Entraînement du modèle"
      ]
    },
    {
      "cell_type": "code",
      "metadata": {
        "id": "pCMm3BzK0af6",
        "colab": {
          "base_uri": "https://localhost:8080/",
          "height": 919
        },
        "outputId": "f03f8899-e683-41d1-9a82-84160f35b0e2"
      },
      "source": [
        "# réglage des paramètres : \n",
        "embedding_size = 300\n",
        "gru_dimension = 50\n",
        "\n",
        "# HAN Model\n",
        "han = HAN(n_classes=n_classes, embedding_size=embedding_size, n_sentences=n_sentences, n_words=n_words, gru_dimension=gru_dimension, vocabulary_size=len(vocabulary), vectors=np.array(vectors))\n",
        "\n",
        "optimizer = k.optimizers.Adam(learning_rate=1e-3)\n",
        "if d == 1:\n",
        "    cce = k.losses.CategoricalCrossentropy(from_logits=True, reduction='none')\n",
        "else:\n",
        "    cce = k.losses.BinaryCrossentropy(from_logits=True, reduction='none')\n",
        "accuracy_metric = k.metrics.Accuracy()\n",
        "\n",
        "def loss_function(y_target, y_pred):\n",
        "    loss_ = cce(y_target, y_pred)\n",
        "    return tf.reduce_mean(loss_)\n",
        "\n",
        "def accuracy_score(y_target, y_pred):\n",
        "    accuracy_metric.reset_states()\n",
        "    pred = K.argmax(y_pred, axis=-1)\n",
        "    target = K.argmax(y_target, axis=-1)\n",
        "    accuracy_metric.update_state(target, pred)\n",
        "    return accuracy_metric.result()\n",
        "\n",
        "def train_step(x_batch, y_batch):\n",
        "    loss, acc = 0, 0\n",
        "    with tf.GradientTape() as tape:\n",
        "        logits = han(x_batch)\n",
        "        # Compute model loss\n",
        "        loss += loss_function(y_batch, logits)\n",
        "        acc += accuracy_score(y_batch, logits)\n",
        "    batch_loss = loss\n",
        "    batch_accuracy = acc\n",
        "    grads = tape.gradient(loss, han.trainable_weights)\n",
        "    optimizer.apply_gradients(zip(grads, han.trainable_weights))\n",
        "    return batch_loss, batch_accuracy\n",
        "\n",
        "epochs = 7\n",
        "# Iterate over epochs.\n",
        "loss, acc = [], []\n",
        "for epoch in range(epochs):\n",
        "    print(\"Start of epoch %d\" % (epoch,))\n",
        "    # Iterate over the batches of the dataset\n",
        "    for step, (x_batch_train, y_batch_train) in enumerate(zip(train_dataset, train_target)):\n",
        "        batch_loss, batch_accuracy = train_step(x_batch_train, y_batch_train)\n",
        "        loss.append(batch_loss)\n",
        "        acc.append(batch_accuracy)\n",
        "\n",
        "        if step % 16 == 0 or step == 0:\n",
        "            clear_output()\n",
        "            plt.plot(loss, color=\"blue\")\n",
        "            plt.title(\"Loss\")\n",
        "            plt.show()\n",
        "            plt.plot(acc, color=\"red\")\n",
        "            plt.title(\"Accuracy\")\n",
        "            plt.show()\n",
        "            print('Epoch %d Batch %d Loss %.3f Accuracy %.2f' % (epoch + 1, step, batch_loss.numpy(), batch_accuracy.numpy()))\n",
        "han.save_weights(\"han.weights\")"
      ],
      "execution_count": null,
      "outputs": [
        {
          "output_type": "display_data",
          "data": {
            "image/png": "[encoded data removed]",
            "text/plain": [
              "<Figure size 432x288 with 1 Axes>"
            ]
          },
          "metadata": {
            "tags": [],
            "needs_background": "light"
          }
        },
        {
          "output_type": "display_data",
          "data": {
            "image/png": "[encoded data removed]",
            "text/plain": [
              "<Figure size 432x288 with 1 Axes>"
            ]
          },
          "metadata": {
            "tags": [],
            "needs_background": "light"
          }
        },
        {
          "output_type": "stream",
          "text": [
            "Epoch 4 Batch 32 Loss 0.903 Accuracy 0.70\n"
          ],
          "name": "stdout"
        },
        {
          "output_type": "error",
          "ename": "KeyboardInterrupt",
          "evalue": "ignored",
          "traceback": [
            "\u001b[0;31m---------------------------------------------------------------------------\u001b[0m",
            "\u001b[0;31mKeyboardInterrupt\u001b[0m                         Traceback (most recent call last)",
            "\u001b[0;32m<ipython-input-87-d1532b0bd2cc>\u001b[0m in \u001b[0;36m<module>\u001b[0;34m()\u001b[0m\n\u001b[1;32m     44\u001b[0m     \u001b[0;31m# Iterate over the batches of the dataset\u001b[0m\u001b[0;34m\u001b[0m\u001b[0;34m\u001b[0m\u001b[0;34m\u001b[0m\u001b[0m\n\u001b[1;32m     45\u001b[0m     \u001b[0;32mfor\u001b[0m \u001b[0mstep\u001b[0m\u001b[0;34m,\u001b[0m \u001b[0;34m(\u001b[0m\u001b[0mx_batch_train\u001b[0m\u001b[0;34m,\u001b[0m \u001b[0my_batch_train\u001b[0m\u001b[0;34m)\u001b[0m \u001b[0;32min\u001b[0m \u001b[0menumerate\u001b[0m\u001b[0;34m(\u001b[0m\u001b[0mzip\u001b[0m\u001b[0;34m(\u001b[0m\u001b[0mtrain_dataset\u001b[0m\u001b[0;34m,\u001b[0m \u001b[0mtrain_target\u001b[0m\u001b[0;34m)\u001b[0m\u001b[0;34m)\u001b[0m\u001b[0;34m:\u001b[0m\u001b[0;34m\u001b[0m\u001b[0;34m\u001b[0m\u001b[0m\n\u001b[0;32m---> 46\u001b[0;31m         \u001b[0mbatch_loss\u001b[0m\u001b[0;34m,\u001b[0m \u001b[0mbatch_accuracy\u001b[0m \u001b[0;34m=\u001b[0m \u001b[0mtrain_step\u001b[0m\u001b[0;34m(\u001b[0m\u001b[0mx_batch_train\u001b[0m\u001b[0;34m,\u001b[0m \u001b[0my_batch_train\u001b[0m\u001b[0;34m)\u001b[0m\u001b[0;34m\u001b[0m\u001b[0;34m\u001b[0m\u001b[0m\n\u001b[0m\u001b[1;32m     47\u001b[0m         \u001b[0mloss\u001b[0m\u001b[0;34m.\u001b[0m\u001b[0mappend\u001b[0m\u001b[0;34m(\u001b[0m\u001b[0mbatch_loss\u001b[0m\u001b[0;34m)\u001b[0m\u001b[0;34m\u001b[0m\u001b[0;34m\u001b[0m\u001b[0m\n\u001b[1;32m     48\u001b[0m         \u001b[0macc\u001b[0m\u001b[0;34m.\u001b[0m\u001b[0mappend\u001b[0m\u001b[0;34m(\u001b[0m\u001b[0mbatch_accuracy\u001b[0m\u001b[0;34m)\u001b[0m\u001b[0;34m\u001b[0m\u001b[0;34m\u001b[0m\u001b[0m\n",
            "\u001b[0;32m<ipython-input-87-d1532b0bd2cc>\u001b[0m in \u001b[0;36mtrain_step\u001b[0;34m(x_batch, y_batch)\u001b[0m\n\u001b[1;32m     27\u001b[0m     \u001b[0mloss\u001b[0m\u001b[0;34m,\u001b[0m \u001b[0macc\u001b[0m \u001b[0;34m=\u001b[0m \u001b[0;36m0\u001b[0m\u001b[0;34m,\u001b[0m \u001b[0;36m0\u001b[0m\u001b[0;34m\u001b[0m\u001b[0;34m\u001b[0m\u001b[0m\n\u001b[1;32m     28\u001b[0m     \u001b[0;32mwith\u001b[0m \u001b[0mtf\u001b[0m\u001b[0;34m.\u001b[0m\u001b[0mGradientTape\u001b[0m\u001b[0;34m(\u001b[0m\u001b[0;34m)\u001b[0m \u001b[0;32mas\u001b[0m \u001b[0mtape\u001b[0m\u001b[0;34m:\u001b[0m\u001b[0;34m\u001b[0m\u001b[0;34m\u001b[0m\u001b[0m\n\u001b[0;32m---> 29\u001b[0;31m         \u001b[0mlogits\u001b[0m \u001b[0;34m=\u001b[0m \u001b[0mhan\u001b[0m\u001b[0;34m(\u001b[0m\u001b[0mx_batch\u001b[0m\u001b[0;34m)\u001b[0m\u001b[0;34m\u001b[0m\u001b[0;34m\u001b[0m\u001b[0m\n\u001b[0m\u001b[1;32m     30\u001b[0m         \u001b[0;31m# Compute model loss\u001b[0m\u001b[0;34m\u001b[0m\u001b[0;34m\u001b[0m\u001b[0;34m\u001b[0m\u001b[0m\n\u001b[1;32m     31\u001b[0m         \u001b[0mloss\u001b[0m \u001b[0;34m+=\u001b[0m \u001b[0mloss_function\u001b[0m\u001b[0;34m(\u001b[0m\u001b[0my_batch\u001b[0m\u001b[0;34m,\u001b[0m \u001b[0mlogits\u001b[0m\u001b[0;34m)\u001b[0m\u001b[0;34m\u001b[0m\u001b[0;34m\u001b[0m\u001b[0m\n",
            "\u001b[0;32m/usr/local/lib/python3.6/dist-packages/tensorflow/python/keras/engine/base_layer.py\u001b[0m in \u001b[0;36m__call__\u001b[0;34m(self, *args, **kwargs)\u001b[0m\n\u001b[1;32m   1010\u001b[0m         with autocast_variable.enable_auto_cast_variables(\n\u001b[1;32m   1011\u001b[0m             self._compute_dtype_object):\n\u001b[0;32m-> 1012\u001b[0;31m           \u001b[0moutputs\u001b[0m \u001b[0;34m=\u001b[0m \u001b[0mcall_fn\u001b[0m\u001b[0;34m(\u001b[0m\u001b[0minputs\u001b[0m\u001b[0;34m,\u001b[0m \u001b[0;34m*\u001b[0m\u001b[0margs\u001b[0m\u001b[0;34m,\u001b[0m \u001b[0;34m**\u001b[0m\u001b[0mkwargs\u001b[0m\u001b[0;34m)\u001b[0m\u001b[0;34m\u001b[0m\u001b[0;34m\u001b[0m\u001b[0m\n\u001b[0m\u001b[1;32m   1013\u001b[0m \u001b[0;34m\u001b[0m\u001b[0m\n\u001b[1;32m   1014\u001b[0m         \u001b[0;32mif\u001b[0m \u001b[0mself\u001b[0m\u001b[0;34m.\u001b[0m\u001b[0m_activity_regularizer\u001b[0m\u001b[0;34m:\u001b[0m\u001b[0;34m\u001b[0m\u001b[0;34m\u001b[0m\u001b[0m\n",
            "\u001b[0;32m<ipython-input-83-6439a3b98f2a>\u001b[0m in \u001b[0;36mcall\u001b[0;34m(self, sentences)\u001b[0m\n\u001b[1;32m      9\u001b[0m \u001b[0;34m\u001b[0m\u001b[0m\n\u001b[1;32m     10\u001b[0m     \u001b[0;32mdef\u001b[0m \u001b[0mcall\u001b[0m\u001b[0;34m(\u001b[0m\u001b[0mself\u001b[0m\u001b[0;34m,\u001b[0m \u001b[0msentences\u001b[0m\u001b[0;34m)\u001b[0m\u001b[0;34m:\u001b[0m \u001b[0;31m# sentences shape : (batch, n_sentences, n_words)\u001b[0m\u001b[0;34m\u001b[0m\u001b[0;34m\u001b[0m\u001b[0m\n\u001b[0;32m---> 11\u001b[0;31m         \u001b[0mh_we\u001b[0m \u001b[0;34m=\u001b[0m \u001b[0mself\u001b[0m\u001b[0;34m.\u001b[0m\u001b[0mword_encoder\u001b[0m\u001b[0;34m(\u001b[0m\u001b[0msentences\u001b[0m\u001b[0;34m,\u001b[0m \u001b[0msentences\u001b[0m\u001b[0;34m.\u001b[0m\u001b[0mshape\u001b[0m\u001b[0;34m[\u001b[0m\u001b[0;36m0\u001b[0m\u001b[0;34m]\u001b[0m\u001b[0;34m)\u001b[0m \u001b[0;31m# h_we shape : (batch, n_sentences, n_words, gru_dimension)\u001b[0m\u001b[0;34m\u001b[0m\u001b[0;34m\u001b[0m\u001b[0m\n\u001b[0m\u001b[1;32m     12\u001b[0m         \u001b[0ms_i\u001b[0m \u001b[0;34m=\u001b[0m \u001b[0mself\u001b[0m\u001b[0;34m.\u001b[0m\u001b[0mword_attention\u001b[0m\u001b[0;34m(\u001b[0m\u001b[0mh_we\u001b[0m\u001b[0;34m,\u001b[0m \u001b[0mn_sentences\u001b[0m\u001b[0;34m)\u001b[0m \u001b[0;31m# s_i shape : (batch, n_sentences, n_words)\u001b[0m\u001b[0;34m\u001b[0m\u001b[0;34m\u001b[0m\u001b[0m\n\u001b[1;32m     13\u001b[0m         \u001b[0mh_se\u001b[0m \u001b[0;34m=\u001b[0m \u001b[0mself\u001b[0m\u001b[0;34m.\u001b[0m\u001b[0msentence_encoder\u001b[0m\u001b[0;34m(\u001b[0m\u001b[0ms_i\u001b[0m\u001b[0;34m)\u001b[0m \u001b[0;31m# h_se shape : (batch, n_sentences, 2*gru_dimension)\u001b[0m\u001b[0;34m\u001b[0m\u001b[0;34m\u001b[0m\u001b[0m\n",
            "\u001b[0;32m/usr/local/lib/python3.6/dist-packages/tensorflow/python/keras/engine/base_layer.py\u001b[0m in \u001b[0;36m__call__\u001b[0;34m(self, *args, **kwargs)\u001b[0m\n\u001b[1;32m   1010\u001b[0m         with autocast_variable.enable_auto_cast_variables(\n\u001b[1;32m   1011\u001b[0m             self._compute_dtype_object):\n\u001b[0;32m-> 1012\u001b[0;31m           \u001b[0moutputs\u001b[0m \u001b[0;34m=\u001b[0m \u001b[0mcall_fn\u001b[0m\u001b[0;34m(\u001b[0m\u001b[0minputs\u001b[0m\u001b[0;34m,\u001b[0m \u001b[0;34m*\u001b[0m\u001b[0margs\u001b[0m\u001b[0;34m,\u001b[0m \u001b[0;34m**\u001b[0m\u001b[0mkwargs\u001b[0m\u001b[0;34m)\u001b[0m\u001b[0;34m\u001b[0m\u001b[0;34m\u001b[0m\u001b[0m\n\u001b[0m\u001b[1;32m   1013\u001b[0m \u001b[0;34m\u001b[0m\u001b[0m\n\u001b[1;32m   1014\u001b[0m         \u001b[0;32mif\u001b[0m \u001b[0mself\u001b[0m\u001b[0;34m.\u001b[0m\u001b[0m_activity_regularizer\u001b[0m\u001b[0;34m:\u001b[0m\u001b[0;34m\u001b[0m\u001b[0;34m\u001b[0m\u001b[0m\n",
            "\u001b[0;32m<ipython-input-82-7a14ee79eec3>\u001b[0m in \u001b[0;36mcall\u001b[0;34m(self, inputs, batch_size)\u001b[0m\n\u001b[1;32m     64\u001b[0m         \u001b[0;32mfor\u001b[0m \u001b[0mi\u001b[0m \u001b[0;32min\u001b[0m \u001b[0mrange\u001b[0m\u001b[0;34m(\u001b[0m\u001b[0mself\u001b[0m\u001b[0;34m.\u001b[0m\u001b[0mn_sentences\u001b[0m\u001b[0;34m)\u001b[0m\u001b[0;34m:\u001b[0m \u001b[0;31m# Each sentence of a given text must be passed through the Word Encoder layer\u001b[0m\u001b[0;34m\u001b[0m\u001b[0;34m\u001b[0m\u001b[0m\n\u001b[1;32m     65\u001b[0m             \u001b[0mreshaped_x\u001b[0m \u001b[0;34m=\u001b[0m \u001b[0mtf\u001b[0m\u001b[0;34m.\u001b[0m\u001b[0msqueeze\u001b[0m\u001b[0;34m(\u001b[0m\u001b[0mtf\u001b[0m\u001b[0;34m.\u001b[0m\u001b[0mslice\u001b[0m\u001b[0;34m(\u001b[0m\u001b[0mtf\u001b[0m\u001b[0;34m.\u001b[0m\u001b[0mconvert_to_tensor\u001b[0m\u001b[0;34m(\u001b[0m\u001b[0mx\u001b[0m\u001b[0;34m)\u001b[0m\u001b[0;34m,\u001b[0m \u001b[0;34m[\u001b[0m\u001b[0;36m0\u001b[0m\u001b[0;34m,\u001b[0m \u001b[0mi\u001b[0m\u001b[0;34m,\u001b[0m \u001b[0;36m0\u001b[0m\u001b[0;34m,\u001b[0m \u001b[0;36m0\u001b[0m\u001b[0;34m]\u001b[0m\u001b[0;34m,\u001b[0m \u001b[0;34m[\u001b[0m\u001b[0mbatch_size\u001b[0m\u001b[0;34m,\u001b[0m \u001b[0;36m1\u001b[0m\u001b[0;34m,\u001b[0m \u001b[0mself\u001b[0m\u001b[0;34m.\u001b[0m\u001b[0mn_words\u001b[0m\u001b[0;34m,\u001b[0m \u001b[0mself\u001b[0m\u001b[0;34m.\u001b[0m\u001b[0membedding_size\u001b[0m\u001b[0;34m]\u001b[0m\u001b[0;34m)\u001b[0m\u001b[0;34m,\u001b[0m \u001b[0maxis\u001b[0m\u001b[0;34m=\u001b[0m\u001b[0;36m1\u001b[0m\u001b[0;34m)\u001b[0m\u001b[0;34m\u001b[0m\u001b[0;34m\u001b[0m\u001b[0m\n\u001b[0;32m---> 66\u001b[0;31m             \u001b[0mh_bi_text\u001b[0m \u001b[0;34m+=\u001b[0m \u001b[0;34m[\u001b[0m\u001b[0mself\u001b[0m\u001b[0;34m.\u001b[0m\u001b[0mbi_gru\u001b[0m\u001b[0;34m(\u001b[0m\u001b[0mreshaped_x\u001b[0m\u001b[0;34m)\u001b[0m\u001b[0;34m]\u001b[0m\u001b[0;34m\u001b[0m\u001b[0;34m\u001b[0m\u001b[0m\n\u001b[0m\u001b[1;32m     67\u001b[0m         \u001b[0;32mreturn\u001b[0m \u001b[0mtf\u001b[0m\u001b[0;34m.\u001b[0m\u001b[0mtranspose\u001b[0m\u001b[0;34m(\u001b[0m\u001b[0mtf\u001b[0m\u001b[0;34m.\u001b[0m\u001b[0mconvert_to_tensor\u001b[0m\u001b[0;34m(\u001b[0m\u001b[0mh_bi_text\u001b[0m\u001b[0;34m)\u001b[0m\u001b[0;34m,\u001b[0m \u001b[0mperm\u001b[0m\u001b[0;34m=\u001b[0m\u001b[0;34m[\u001b[0m\u001b[0;36m1\u001b[0m\u001b[0;34m,\u001b[0m \u001b[0;36m0\u001b[0m\u001b[0;34m,\u001b[0m \u001b[0;36m2\u001b[0m\u001b[0;34m]\u001b[0m\u001b[0;34m)\u001b[0m\u001b[0;34m\u001b[0m\u001b[0;34m\u001b[0m\u001b[0m\n\u001b[1;32m     68\u001b[0m \u001b[0;34m\u001b[0m\u001b[0m\n",
            "\u001b[0;32m/usr/local/lib/python3.6/dist-packages/tensorflow/python/keras/layers/wrappers.py\u001b[0m in \u001b[0;36m__call__\u001b[0;34m(self, inputs, initial_state, constants, **kwargs)\u001b[0m\n\u001b[1;32m    537\u001b[0m \u001b[0;34m\u001b[0m\u001b[0m\n\u001b[1;32m    538\u001b[0m     \u001b[0;32mif\u001b[0m \u001b[0minitial_state\u001b[0m \u001b[0;32mis\u001b[0m \u001b[0;32mNone\u001b[0m \u001b[0;32mand\u001b[0m \u001b[0mconstants\u001b[0m \u001b[0;32mis\u001b[0m \u001b[0;32mNone\u001b[0m\u001b[0;34m:\u001b[0m\u001b[0;34m\u001b[0m\u001b[0;34m\u001b[0m\u001b[0m\n\u001b[0;32m--> 539\u001b[0;31m       \u001b[0;32mreturn\u001b[0m \u001b[0msuper\u001b[0m\u001b[0;34m(\u001b[0m\u001b[0mBidirectional\u001b[0m\u001b[0;34m,\u001b[0m \u001b[0mself\u001b[0m\u001b[0;34m)\u001b[0m\u001b[0;34m.\u001b[0m\u001b[0m__call__\u001b[0m\u001b[0;34m(\u001b[0m\u001b[0minputs\u001b[0m\u001b[0;34m,\u001b[0m \u001b[0;34m**\u001b[0m\u001b[0mkwargs\u001b[0m\u001b[0;34m)\u001b[0m\u001b[0;34m\u001b[0m\u001b[0;34m\u001b[0m\u001b[0m\n\u001b[0m\u001b[1;32m    540\u001b[0m \u001b[0;34m\u001b[0m\u001b[0m\n\u001b[1;32m    541\u001b[0m     \u001b[0;31m# Applies the same workaround as in `RNN.__call__`\u001b[0m\u001b[0;34m\u001b[0m\u001b[0;34m\u001b[0m\u001b[0;34m\u001b[0m\u001b[0m\n",
            "\u001b[0;32m/usr/local/lib/python3.6/dist-packages/tensorflow/python/keras/engine/base_layer.py\u001b[0m in \u001b[0;36m__call__\u001b[0;34m(self, *args, **kwargs)\u001b[0m\n\u001b[1;32m   1010\u001b[0m         with autocast_variable.enable_auto_cast_variables(\n\u001b[1;32m   1011\u001b[0m             self._compute_dtype_object):\n\u001b[0;32m-> 1012\u001b[0;31m           \u001b[0moutputs\u001b[0m \u001b[0;34m=\u001b[0m \u001b[0mcall_fn\u001b[0m\u001b[0;34m(\u001b[0m\u001b[0minputs\u001b[0m\u001b[0;34m,\u001b[0m \u001b[0;34m*\u001b[0m\u001b[0margs\u001b[0m\u001b[0;34m,\u001b[0m \u001b[0;34m**\u001b[0m\u001b[0mkwargs\u001b[0m\u001b[0;34m)\u001b[0m\u001b[0;34m\u001b[0m\u001b[0;34m\u001b[0m\u001b[0m\n\u001b[0m\u001b[1;32m   1013\u001b[0m \u001b[0;34m\u001b[0m\u001b[0m\n\u001b[1;32m   1014\u001b[0m         \u001b[0;32mif\u001b[0m \u001b[0mself\u001b[0m\u001b[0;34m.\u001b[0m\u001b[0m_activity_regularizer\u001b[0m\u001b[0;34m:\u001b[0m\u001b[0;34m\u001b[0m\u001b[0;34m\u001b[0m\u001b[0m\n",
            "\u001b[0;32m/usr/local/lib/python3.6/dist-packages/tensorflow/python/keras/layers/wrappers.py\u001b[0m in \u001b[0;36mcall\u001b[0;34m(self, inputs, training, mask, initial_state, constants)\u001b[0m\n\u001b[1;32m    651\u001b[0m \u001b[0;34m\u001b[0m\u001b[0m\n\u001b[1;32m    652\u001b[0m       y = self.forward_layer(forward_inputs,\n\u001b[0;32m--> 653\u001b[0;31m                              initial_state=forward_state, **kwargs)\n\u001b[0m\u001b[1;32m    654\u001b[0m       y_rev = self.backward_layer(backward_inputs,\n\u001b[1;32m    655\u001b[0m                                   initial_state=backward_state, **kwargs)\n",
            "\u001b[0;32m/usr/local/lib/python3.6/dist-packages/tensorflow/python/keras/layers/recurrent.py\u001b[0m in \u001b[0;36m__call__\u001b[0;34m(self, inputs, initial_state, constants, **kwargs)\u001b[0m\n\u001b[1;32m    658\u001b[0m \u001b[0;34m\u001b[0m\u001b[0m\n\u001b[1;32m    659\u001b[0m     \u001b[0;32mif\u001b[0m \u001b[0minitial_state\u001b[0m \u001b[0;32mis\u001b[0m \u001b[0;32mNone\u001b[0m \u001b[0;32mand\u001b[0m \u001b[0mconstants\u001b[0m \u001b[0;32mis\u001b[0m \u001b[0;32mNone\u001b[0m\u001b[0;34m:\u001b[0m\u001b[0;34m\u001b[0m\u001b[0;34m\u001b[0m\u001b[0m\n\u001b[0;32m--> 660\u001b[0;31m       \u001b[0;32mreturn\u001b[0m \u001b[0msuper\u001b[0m\u001b[0;34m(\u001b[0m\u001b[0mRNN\u001b[0m\u001b[0;34m,\u001b[0m \u001b[0mself\u001b[0m\u001b[0;34m)\u001b[0m\u001b[0;34m.\u001b[0m\u001b[0m__call__\u001b[0m\u001b[0;34m(\u001b[0m\u001b[0minputs\u001b[0m\u001b[0;34m,\u001b[0m \u001b[0;34m**\u001b[0m\u001b[0mkwargs\u001b[0m\u001b[0;34m)\u001b[0m\u001b[0;34m\u001b[0m\u001b[0;34m\u001b[0m\u001b[0m\n\u001b[0m\u001b[1;32m    661\u001b[0m \u001b[0;34m\u001b[0m\u001b[0m\n\u001b[1;32m    662\u001b[0m     \u001b[0;31m# If any of `initial_state` or `constants` are specified and are Keras\u001b[0m\u001b[0;34m\u001b[0m\u001b[0;34m\u001b[0m\u001b[0;34m\u001b[0m\u001b[0m\n",
            "\u001b[0;32m/usr/local/lib/python3.6/dist-packages/tensorflow/python/keras/engine/base_layer.py\u001b[0m in \u001b[0;36m__call__\u001b[0;34m(self, *args, **kwargs)\u001b[0m\n\u001b[1;32m   1010\u001b[0m         with autocast_variable.enable_auto_cast_variables(\n\u001b[1;32m   1011\u001b[0m             self._compute_dtype_object):\n\u001b[0;32m-> 1012\u001b[0;31m           \u001b[0moutputs\u001b[0m \u001b[0;34m=\u001b[0m \u001b[0mcall_fn\u001b[0m\u001b[0;34m(\u001b[0m\u001b[0minputs\u001b[0m\u001b[0;34m,\u001b[0m \u001b[0;34m*\u001b[0m\u001b[0margs\u001b[0m\u001b[0;34m,\u001b[0m \u001b[0;34m**\u001b[0m\u001b[0mkwargs\u001b[0m\u001b[0;34m)\u001b[0m\u001b[0;34m\u001b[0m\u001b[0;34m\u001b[0m\u001b[0m\n\u001b[0m\u001b[1;32m   1013\u001b[0m \u001b[0;34m\u001b[0m\u001b[0m\n\u001b[1;32m   1014\u001b[0m         \u001b[0;32mif\u001b[0m \u001b[0mself\u001b[0m\u001b[0;34m.\u001b[0m\u001b[0m_activity_regularizer\u001b[0m\u001b[0;34m:\u001b[0m\u001b[0;34m\u001b[0m\u001b[0;34m\u001b[0m\u001b[0m\n",
            "\u001b[0;32m/usr/local/lib/python3.6/dist-packages/tensorflow/python/keras/layers/recurrent_v2.py\u001b[0m in \u001b[0;36mcall\u001b[0;34m(self, inputs, mask, training, initial_state)\u001b[0m\n\u001b[1;32m    437\u001b[0m \u001b[0;34m\u001b[0m\u001b[0m\n\u001b[1;32m    438\u001b[0m     \u001b[0;31m# GRU does not support constants. Ignore it during process.\u001b[0m\u001b[0;34m\u001b[0m\u001b[0;34m\u001b[0m\u001b[0;34m\u001b[0m\u001b[0m\n\u001b[0;32m--> 439\u001b[0;31m     \u001b[0minputs\u001b[0m\u001b[0;34m,\u001b[0m \u001b[0minitial_state\u001b[0m\u001b[0;34m,\u001b[0m \u001b[0m_\u001b[0m \u001b[0;34m=\u001b[0m \u001b[0mself\u001b[0m\u001b[0;34m.\u001b[0m\u001b[0m_process_inputs\u001b[0m\u001b[0;34m(\u001b[0m\u001b[0minputs\u001b[0m\u001b[0;34m,\u001b[0m \u001b[0minitial_state\u001b[0m\u001b[0;34m,\u001b[0m \u001b[0;32mNone\u001b[0m\u001b[0;34m)\u001b[0m\u001b[0;34m\u001b[0m\u001b[0;34m\u001b[0m\u001b[0m\n\u001b[0m\u001b[1;32m    440\u001b[0m \u001b[0;34m\u001b[0m\u001b[0m\n\u001b[1;32m    441\u001b[0m     \u001b[0;32mif\u001b[0m \u001b[0misinstance\u001b[0m\u001b[0;34m(\u001b[0m\u001b[0mmask\u001b[0m\u001b[0;34m,\u001b[0m \u001b[0mlist\u001b[0m\u001b[0;34m)\u001b[0m\u001b[0;34m:\u001b[0m\u001b[0;34m\u001b[0m\u001b[0;34m\u001b[0m\u001b[0m\n",
            "\u001b[0;32m/usr/local/lib/python3.6/dist-packages/tensorflow/python/keras/layers/recurrent.py\u001b[0m in \u001b[0;36m_process_inputs\u001b[0;34m(self, inputs, initial_state, constants)\u001b[0m\n\u001b[1;32m    857\u001b[0m         \u001b[0minitial_state\u001b[0m \u001b[0;34m=\u001b[0m \u001b[0mself\u001b[0m\u001b[0;34m.\u001b[0m\u001b[0mstates\u001b[0m\u001b[0;34m\u001b[0m\u001b[0;34m\u001b[0m\u001b[0m\n\u001b[1;32m    858\u001b[0m     \u001b[0;32melif\u001b[0m \u001b[0minitial_state\u001b[0m \u001b[0;32mis\u001b[0m \u001b[0;32mNone\u001b[0m\u001b[0;34m:\u001b[0m\u001b[0;34m\u001b[0m\u001b[0;34m\u001b[0m\u001b[0m\n\u001b[0;32m--> 859\u001b[0;31m       \u001b[0minitial_state\u001b[0m \u001b[0;34m=\u001b[0m \u001b[0mself\u001b[0m\u001b[0;34m.\u001b[0m\u001b[0mget_initial_state\u001b[0m\u001b[0;34m(\u001b[0m\u001b[0minputs\u001b[0m\u001b[0;34m)\u001b[0m\u001b[0;34m\u001b[0m\u001b[0;34m\u001b[0m\u001b[0m\n\u001b[0m\u001b[1;32m    860\u001b[0m \u001b[0;34m\u001b[0m\u001b[0m\n\u001b[1;32m    861\u001b[0m     \u001b[0;32mif\u001b[0m \u001b[0mlen\u001b[0m\u001b[0;34m(\u001b[0m\u001b[0minitial_state\u001b[0m\u001b[0;34m)\u001b[0m \u001b[0;34m!=\u001b[0m \u001b[0mlen\u001b[0m\u001b[0;34m(\u001b[0m\u001b[0mself\u001b[0m\u001b[0;34m.\u001b[0m\u001b[0mstates\u001b[0m\u001b[0;34m)\u001b[0m\u001b[0;34m:\u001b[0m\u001b[0;34m\u001b[0m\u001b[0;34m\u001b[0m\u001b[0m\n",
            "\u001b[0;32m/usr/local/lib/python3.6/dist-packages/tensorflow/python/keras/layers/recurrent.py\u001b[0m in \u001b[0;36mget_initial_state\u001b[0;34m(self, inputs)\u001b[0m\n\u001b[1;32m    646\u001b[0m                                                dtype)\n\u001b[1;32m    647\u001b[0m     \u001b[0;31m# Keras RNN expect the states in a list, even if it's a single state tensor.\u001b[0m\u001b[0;34m\u001b[0m\u001b[0;34m\u001b[0m\u001b[0;34m\u001b[0m\u001b[0m\n\u001b[0;32m--> 648\u001b[0;31m     \u001b[0;32mif\u001b[0m \u001b[0;32mnot\u001b[0m \u001b[0mnest\u001b[0m\u001b[0;34m.\u001b[0m\u001b[0mis_nested\u001b[0m\u001b[0;34m(\u001b[0m\u001b[0minit_state\u001b[0m\u001b[0;34m)\u001b[0m\u001b[0;34m:\u001b[0m\u001b[0;34m\u001b[0m\u001b[0;34m\u001b[0m\u001b[0m\n\u001b[0m\u001b[1;32m    649\u001b[0m       \u001b[0minit_state\u001b[0m \u001b[0;34m=\u001b[0m \u001b[0;34m[\u001b[0m\u001b[0minit_state\u001b[0m\u001b[0;34m]\u001b[0m\u001b[0;34m\u001b[0m\u001b[0;34m\u001b[0m\u001b[0m\n\u001b[1;32m    650\u001b[0m     \u001b[0;31m# Force the state to be a list in case it is a namedtuple eg LSTMStateTuple.\u001b[0m\u001b[0;34m\u001b[0m\u001b[0;34m\u001b[0m\u001b[0;34m\u001b[0m\u001b[0m\n",
            "\u001b[0;32m/usr/local/lib/python3.6/dist-packages/tensorflow/python/util/nest.py\u001b[0m in \u001b[0;36mis_nested\u001b[0;34m(seq)\u001b[0m\n\u001b[1;32m    269\u001b[0m     \u001b[0;32mor\u001b[0m \u001b[0ma\u001b[0m \u001b[0mdict\u001b[0m\u001b[0;34m.\u001b[0m\u001b[0;34m\u001b[0m\u001b[0;34m\u001b[0m\u001b[0m\n\u001b[1;32m    270\u001b[0m   \"\"\"\n\u001b[0;32m--> 271\u001b[0;31m   \u001b[0;32mreturn\u001b[0m \u001b[0mis_sequence\u001b[0m\u001b[0;34m(\u001b[0m\u001b[0mseq\u001b[0m\u001b[0;34m)\u001b[0m\u001b[0;34m\u001b[0m\u001b[0;34m\u001b[0m\u001b[0m\n\u001b[0m\u001b[1;32m    272\u001b[0m \u001b[0;34m\u001b[0m\u001b[0m\n\u001b[1;32m    273\u001b[0m \u001b[0;34m\u001b[0m\u001b[0m\n",
            "\u001b[0;31mKeyboardInterrupt\u001b[0m: "
          ]
        }
      ]
    },
    {
      "cell_type": "code",
      "metadata": {
        "id": "SSZgnN5K0o1s"
      },
      "source": [
        "# Résumé du nombre de paramètres du modèle\n",
        "han.summary()"
      ],
      "execution_count": null,
      "outputs": []
    },
    {
      "cell_type": "markdown",
      "metadata": {
        "id": "MZZol5Cp-EZ1"
      },
      "source": [
        "## Tests"
      ]
    },
    {
      "cell_type": "code",
      "metadata": {
        "id": "8MEuFINPkWdg"
      },
      "source": [
        "# Utilisation du modèle\n",
        "\n",
        "# preparer le texte : encoder les mots + padding des mots + padding des phrases\n",
        "def prepare_text(text):\n",
        "    tokenized_text = [[dictionnary.get(token.lower(), oov_id) for token in wordpunct_tokenize(sentence)] for sentence in sent_tokenize(text)]\n",
        "    padded_words = [pad_sequences(tokenized_text, maxlen=n_words, truncating=\"pre\", padding=\"pre\", value=pad_id)]\n",
        "    pad_text = pad_documents(padded_words, max_vects=n_sentences, vect_length=n_words)\n",
        "    return np.asanyarray(pad_text)\n",
        "\n",
        "# passer le texte par le modèle, retourne les logits\n",
        "def document_classif(text):\n",
        "    text = tf.expand_dims(tf.convert_to_tensor(text), axis=0)\n",
        "    return tf.squeeze(han(text)).numpy()\n",
        "\n",
        "# prepared_text = prepare_text(text)\n",
        "# print(prepared_text.shape)\n",
        "print(test_x.shape)\n",
        "print(\"La classification peut prendre pas mal de temps s'il y a beaucoup d'exemples à tester.\")\n",
        "res = [document_classif(text) for text in test_x]\n",
        "print(np.asanyarray(res).shape)"
      ],
      "execution_count": null,
      "outputs": []
    },
    {
      "cell_type": "code",
      "metadata": {
        "id": "DGPZ1BBTTxES"
      },
      "source": [
        "from sklearn.metrics import accuracy_score as accuracy_sc\n",
        "\n",
        "true = K.argmax(test_y, axis=-1)\n",
        "pred = K.argmax(np.asanyarray(res), axis=-1)\n",
        "\n",
        "print(\"Taux de réussite global sur le jeu de test : %.2f \" % (accuracy_sc(y_true=true, y_pred=pred)))"
      ],
      "execution_count": null,
      "outputs": []
    },
    {
      "cell_type": "markdown",
      "metadata": {
        "id": "nuUjDzFH10Qo"
      },
      "source": [
        "# CNN et RNN"
      ]
    },
    {
      "cell_type": "markdown",
      "metadata": {
        "id": "vDH-NfE22Jym"
      },
      "source": [
        "## Préparation des données"
      ]
    },
    {
      "cell_type": "code",
      "metadata": {
        "id": "sh0EXK1K6i0Y"
      },
      "source": [
        "from nltk.tokenize import wordpunct_tokenize\n",
        "from tensorflow.keras.preprocessing.sequence import pad_sequences\n",
        "\n",
        "coded_texts = [[dictionnary.get(i, pad_id) for i in wordpunct_tokenize(text)] for text in dataset.text]\n",
        "\n",
        "equal_tokens_lists = pad_sequences(coded_texts , maxlen = 200, padding='post', truncating='pre', value = pad_id)\n",
        "equal_tokens_lists.shape"
      ],
      "execution_count": null,
      "outputs": []
    },
    {
      "cell_type": "code",
      "metadata": {
        "id": "2hhJTuWASB10"
      },
      "source": [
        "from sklearn.preprocessing import OneHotEncoder\n",
        "\n",
        "# Recoder les variables cibles en vecteurs de 0 et 1\n",
        "encoder = OneHotEncoder()\n",
        "y = encoder.fit_transform(np.array(dataset.objective).reshape(-1, 1)).toarray()\n",
        "n_classes=y.shape[1]\n",
        "y.shape"
      ],
      "execution_count": null,
      "outputs": []
    },
    {
      "cell_type": "code",
      "metadata": {
        "id": "Io_e7n_ozQuT"
      },
      "source": [
        "from sklearn.model_selection import train_test_split\n",
        "\n",
        "x_train, x_test, y_train, y_test = train_test_split(equal_tokens_lists, y, test_size=.2, random_state=42)"
      ],
      "execution_count": null,
      "outputs": []
    },
    {
      "cell_type": "markdown",
      "metadata": {
        "id": "1snz01ZKy66C"
      },
      "source": [
        "## Classification des documents en utilisant un CNN\n"
      ]
    },
    {
      "cell_type": "code",
      "metadata": {
        "id": "wGotH1KSzQ_u"
      },
      "source": [
        "# Document classification with CNN\n",
        "import tensorflow.keras as k\n",
        "from tensorflow.keras.layers import Input, Conv1D, GlobalMaxPooling1D, Dropout, Concatenate, Embedding, Dense\n",
        "\n",
        "def build_cnn(n_classes, n_words, vocabulary_length, filter_sizes, nb_conv_layers, vectors=None):\n",
        "    input_layer = Input(shape = (n_words,))\n",
        "    if vectors is not None:\n",
        "        embedding_layer = Embedding(input_dim=vocabulary_length, output_dim=300, weights=[vectors], trainable=False)(input_layer)\n",
        "    else:\n",
        "        embedding_layer = Embedding(input_dim=vocabulary_length, output_dim=300, trainable=True)(input_layer)\n",
        "    pool_layers = []\n",
        "    for i in range(nb_conv_layers) :\n",
        "        conv_layer = Conv1D(filters = 100, kernel_size = filter_sizes[i], activation='tanh')(embedding_layer)\n",
        "        pool_layer = GlobalMaxPooling1D()(conv_layer)\n",
        "        pool_layers.append(pool_layer)\n",
        "    concat_layer = Concatenate(axis = 1)(pool_layers)\n",
        "    dropout_layer = Dropout(.5, input_shape = (128,))(concat_layer)\n",
        "    output_layer = Dense(n_classes, activation = 'softmax')(dropout_layer)\n",
        "    return k.Model(inputs=input_layer, outputs=output_layer)"
      ],
      "execution_count": null,
      "outputs": []
    },
    {
      "cell_type": "code",
      "metadata": {
        "id": "9Am6Ex6jzQ3i"
      },
      "source": [
        "if d == 1:\n",
        "    filter_sizes = [2, 3]\n",
        "    nb_conv_layers = 2\n",
        "else:\n",
        "    filter_sizes = [2, 3, 4, 5]\n",
        "    nb_conv_layers = 4\n",
        "\n",
        "\n",
        "# Instanciation du modèle\n",
        "cnn = build_cnn(n_classes=n_classes, n_words=200, vocabulary_length=len(vocabulary), filter_sizes=filter_sizes, nb_conv_layers=nb_conv_layers, vectors=np.array(vectors))\n",
        "\n",
        "# Compilation du modèle\n",
        "cnn.compile(optimizer='adam', loss=\"categorical_crossentropy\",  metrics=[\"acc\"])\n",
        "\n",
        "# Affichage des paramètres du modèle\n",
        "cnn.summary()"
      ],
      "execution_count": null,
      "outputs": []
    },
    {
      "cell_type": "code",
      "metadata": {
        "id": "gx8t1qra6MUV"
      },
      "source": [
        "# Entraînement\n",
        "cnn.fit(x_train, y_train, epochs=20, verbose=1, batch_size=50, validation_split=.1)"
      ],
      "execution_count": null,
      "outputs": []
    },
    {
      "cell_type": "code",
      "metadata": {
        "id": "XR5usWwL6MKQ"
      },
      "source": [
        "import numpy as np\n",
        "from sklearn.metrics import accuracy_score\n",
        "\n",
        "y_pred = np.argmax(cnn.predict(x_test), axis=1)\n",
        "print(\"Accuracy on test data: %.4f\" % accuracy_score(np.argmax(y_test, axis=1), y_pred))"
      ],
      "execution_count": null,
      "outputs": []
    },
    {
      "cell_type": "markdown",
      "metadata": {
        "id": "2b9kQsXPzO8w"
      },
      "source": [
        "## Classification des documents en utilisant un RNN"
      ]
    },
    {
      "cell_type": "code",
      "metadata": {
        "id": "ywJa7u6anTHt"
      },
      "source": [
        "# Document classification with RNN\n",
        "from tensorflow.keras.layers import GRU, Input, Embedding, Dropout, Dense\n",
        "\n",
        "def build_rnn(n_classes, n_words, vocabulary_length, vectors, gru_dimension):\n",
        "    input_layer = Input(shape = (n_words,))\n",
        "    if vectors is not None:\n",
        "        embedding_layer = Embedding(input_dim=vocabulary_length, output_dim=300, weights=[vectors], trainable=False)(input_layer)\n",
        "    else:\n",
        "        embedding_layer = Embedding(input_dim=vocabulary_length, output_dim=300, trainable=True)(input_layer)\n",
        "    gru_layer = GRU(gru_dimension, recurrent_initializer=\"orthogonal\", bias_initializer=\"ones\", dropout=0.2 )(embedding_layer)\n",
        "    dropout_layer = Dropout(.5)(gru_layer)\n",
        "    output_layer = Dense(n_classes, activation = 'softmax')(dropout_layer)\n",
        "    return k.Model(inputs=input_layer, outputs=output_layer)"
      ],
      "execution_count": null,
      "outputs": []
    },
    {
      "cell_type": "code",
      "metadata": {
        "id": "_qJ_nQTEnTBh"
      },
      "source": [
        "# Instanciation du modèle\n",
        "rnn = build_rnn(n_classes=n_classes, n_words=200, vocabulary_length=len(vocabulary), vectors=np.array(vectors), gru_dimension = 50)\n",
        "\n",
        "# Compilation du modèle\n",
        "rnn.compile(loss=\"categorical_crossentropy\", optimizer=\"adam\", metrics=[\"accuracy\"])\n",
        "\n",
        "# Affichage du nombre de paramètres du modèle par couche\n",
        "rnn.summary()"
      ],
      "execution_count": null,
      "outputs": []
    },
    {
      "cell_type": "code",
      "metadata": {
        "id": "D4edFlYfnS-f"
      },
      "source": [
        "# Entraînement\n",
        "rnn.fit(x=x_train, y=y_train, batch_size=80, validation_split=0.33, epochs=20, verbose=1)"
      ],
      "execution_count": null,
      "outputs": []
    },
    {
      "cell_type": "code",
      "metadata": {
        "id": "a99DYiJlxhFo"
      },
      "source": [
        "import numpy as np\n",
        "from sklearn.metrics import accuracy_score\n",
        "\n",
        "y_pred = np.argmax(rnn.predict(x_test), axis=1)\n",
        "print(\"Accuracy on test data: %.4f\" % accuracy_score(np.argmax(y_test, axis=1), y_pred))"
      ],
      "execution_count": null,
      "outputs": []
    }
  ]
}